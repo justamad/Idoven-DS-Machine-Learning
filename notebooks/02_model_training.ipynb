{
 "cells": [
  {
   "cell_type": "markdown",
   "id": "28a6a082-396f-4494-9302-cd867b7eed19",
   "metadata": {},
   "source": [
    "## Import Statements"
   ]
  },
  {
   "cell_type": "code",
   "execution_count": 1,
   "id": "initial_id",
   "metadata": {
    "ExecuteTime": {
     "end_time": "2024-10-05T22:31:22.026912Z",
     "start_time": "2024-10-05T22:31:21.025096Z"
    }
   },
   "outputs": [],
   "source": [
    "import pandas as pd\n",
    "import numpy as np\n",
    "import json\n",
    "import matplotlib.pyplot as plt\n",
    "import seaborn as sns\n",
    "import os\n",
    "import pickle\n",
    "\n",
    "from os.path import join\n",
    "from src.training import HyperparameterSearch\n",
    "from src.data_loading import prepare_ground_truth_data\n",
    "from sklearn.metrics import precision_score, recall_score, f1_score\n",
    "\n"
   ]
  },
  {
   "cell_type": "markdown",
   "id": "652e40bd-3b00-4d7f-b66a-dbfc19a14163",
   "metadata": {},
   "source": [
    "## Training Approach\n",
    "\n",
    "Training the data on a five-label classification problem for all heart issues seems unfeasible. Thus, we train the data on a binary classification of being healthy or pathological. We define pathological as every diagnostic superclass that is not \"NORM.\"\n",
    "\n",
    "To this end, we train a basic CNN model on the task of binary classification."
   ]
  },
  {
   "cell_type": "code",
   "execution_count": 2,
   "id": "53c74e89-b5c9-4534-acce-2bf15c97f967",
   "metadata": {},
   "outputs": [
    {
     "name": "stdout",
     "output_type": "stream",
     "text": [
      "/Users/justinalbert/Development/Idoven-DS-Machine-Learning/notebooks\n"
     ]
    }
   ],
   "source": [
    "data_path = \"../data/processed\"\n",
    "X = np.load(join(data_path, \"X.npy\"))\n",
    "Y = pd.read_csv(join(data_path, \"y.csv\"))\n",
    "\n",
    "print(os.getcwd())\n",
    "model_path = \"../param_search\""
   ]
  },
  {
   "cell_type": "markdown",
   "id": "09f0fcf4-3be7-48df-a0ab-db8337a46558",
   "metadata": {},
   "source": [
    "## Investigate Data Distribution of Labels\n",
    "\n",
    "We first investigate the data distribution of the ground truth labels. The distribution between healthy and pathologic classes is minor. Thus, we do not consider any more advanced class imbalance methods.  "
   ]
  },
  {
   "cell_type": "code",
   "execution_count": 3,
   "id": "2b7759d3-37d7-4013-a71a-6980fcb2166e",
   "metadata": {},
   "outputs": [
    {
     "name": "stderr",
     "output_type": "stream",
     "text": [
      "/var/folders/f3/sjrhhs9n24n82n8gvmbk37y00000gn/T/ipykernel_5931/922436849.py:5: FutureWarning: \n",
      "\n",
      "Passing `palette` without assigning `hue` is deprecated and will be removed in v0.14.0. Assign the `x` variable to `hue` and set `legend=False` for the same effect.\n",
      "\n",
      "  sns.barplot(x=class_counts.index, y=class_counts.values, palette='viridis')\n"
     ]
    },
    {
     "data": {
      "image/png": "[encoded data removed]",
      "text/plain": [
       "<Figure size 800x500 with 1 Axes>"
      ]
     },
     "metadata": {},
     "output_type": "display_data"
    }
   ],
   "source": [
    "class_counts = Y['ground_truth'].apply(lambda x: x).value_counts()\n",
    "\n",
    "# Plotting the distribution\n",
    "plt.figure(figsize=(8, 5))\n",
    "sns.barplot(x=class_counts.index, y=class_counts.values, palette='viridis')\n",
    "plt.title('Distribution of Ground Truth Values')\n",
    "plt.xlabel('Ground Truth Value')\n",
    "plt.ylabel('Count')\n",
    "plt.xticks(ticks=[0, 1], labels=['Healthy', 'Pathologic'])\n",
    "plt.ylim(0, class_counts.max() + 1)  # Add some space above bars for aesthetics\n",
    "plt.show()"
   ]
  },
  {
   "cell_type": "markdown",
   "id": "91608bd3-1e13-4b09-944c-3d90d9e25309",
   "metadata": {},
   "source": [
    "## Network Architecture\n",
    "\n",
    "For this experiment, we define a simpler version of a Convolutional Neural Network that consists of three stacked convolutional layers, fed into fully-connected layers and ultimately predicting a probability of sample belonging to either healthy or patient class. "
   ]
  },
  {
   "cell_type": "markdown",
   "id": "4e7e3912-d374-49ec-aa06-b0707b3ae908",
   "metadata": {},
   "source": [
    "## Hyperparameter Optimization\n",
    "\n",
    "We implemented a hyperparameter search using scikit-learn optimize that uses a k_fold split with adjustable fold numbers. Due to computing restrictions, the number of folds is currently set to 3. For the test set, we utilize the fixed stratified fold as recommended by Physionet. Given the larger dataset and the limited training size, we reduce the steps of the hyperparameter search to n=10.\n",
    "\n",
    "For this early experiment, we conduct a hyperparameter search for the following parameters:\n",
    "\n",
    "- Batch Size\n",
    "- Learning Rate\n",
    "- Dropout Rate\n",
    "- Convolutional Filters (3 layers)\n",
    "\n",
    "For runtime purposes (running experiments locally on the CPU of a MacBook Air 2018), we select a rather large stride of n=100 and a window size of 100 frames. This should be increased when having enough computing power at hand."
   ]
  },
  {
   "cell_type": "code",
   "execution_count": 4,
   "id": "b67e25a6-6de0-4ebf-815e-a951c3745978",
   "metadata": {
    "ExecuteTime": {
     "end_time": "2024-10-06T06:00:15.857762Z",
     "start_time": "2024-10-06T06:00:15.067524Z"
    }
   },
   "outputs": [],
   "source": [
    "test_fold = 10\n",
    "\n",
    "Y[\"ground_truth\"] = Y[\"ground_truth\"].apply(lambda x: [x])  # Wrap labels into list for PyTorch Tensors\n",
    "\n",
    "X_train = X[np.where(Y.strat_fold != test_fold)]\n",
    "y_train = Y[(Y.strat_fold != test_fold)]\n",
    "X_test = X[np.where(Y.strat_fold == test_fold)]\n",
    "y_test = Y[Y.strat_fold == test_fold]\n",
    "\n",
    "WINDOW_SIZE = 100\n",
    "STRIDE = 200\n",
    "N_EPOCHS = 1\n",
    "FOLDS = 2\n",
    "\n",
    "opt_search = HyperparameterSearch(X_train, y_train, X_test, y_test, model_path, WINDOW_SIZE, STRIDE, N_EPOCHS, FOLDS)\n"
   ]
  },
  {
   "cell_type": "markdown",
   "id": "449bcc51-d893-4a9b-aa7d-128d0c99206e",
   "metadata": {},
   "source": [
    "## Starting Hyperparameter Optimization\n",
    "\n",
    "The next cell is executing the hyperparameter search with the desired number of trials."
   ]
  },
  {
   "cell_type": "code",
   "execution_count": null,
   "id": "6cefd987-ef62-4cb0-bccc-e305470297a1",
   "metadata": {},
   "outputs": [],
   "source": [
    "opt_search.perform_search(n_calls=10)"
   ]
  },
  {
   "cell_type": "markdown",
   "id": "ec0f6836-7810-44da-a7e8-1d42dc05e1c4",
   "metadata": {},
   "source": [
    "## Model evaluation\n",
    "\n",
    "After performing the hyperparameter optimization, we investigate the model performance on the pre-defined test set. To this end, we load the stored best hyperparameter combination and retrain the model on the entire training data."
   ]
  },
  {
   "cell_type": "code",
   "execution_count": 5,
   "id": "f4da488d-e1d4-4f9d-9bd4-3a9a27373f8e",
   "metadata": {},
   "outputs": [
    {
     "name": "stdout",
     "output_type": "stream",
     "text": [
      "[9, 0.0017249321573178998, 0.45298479650686513, (32, 64, 128)]\n"
     ]
    },
    {
     "name": "stderr",
     "output_type": "stream",
     "text": [
      "Epoch 1/1: 100%|██████████| 7304/7304 [03:32<00:00, 34.41batch/s, loss=0.432]\n"
     ]
    },
    {
     "name": "stdout",
     "output_type": "stream",
     "text": [
      "Train loss: 0.43208980778189376\n"
     ]
    },
    {
     "data": {
      "image/png": "[encoded data removed]",
      "text/plain": [
       "<Figure size 600x400 with 1 Axes>"
      ]
     },
     "metadata": {},
     "output_type": "display_data"
    }
   ],
   "source": [
    "with open(join(model_path, \"best_params.pkl\"), 'rb') as file:\n",
    "    loaded_results = pickle.load(file)\n",
    "\n",
    "print(loaded_results)\n",
    "predictions, labels = opt_search.evaluate_model(loaded_results)\n",
    "\n",
    "# Calculate confusion matrix\n",
    "# Manually calculate confusion matrix values\n",
    "TP = sum((l == 1 and p == 1) for l, p in zip(labels, predictions))\n",
    "TN = sum((l == 0 and p == 0) for l, p in zip(labels, predictions))\n",
    "FP = sum((l == 0 and p == 1) for l, p in zip(labels, predictions))\n",
    "FN = sum((l == 1 and p == 0) for l, p in zip(labels, predictions))\n",
    "\n",
    "# Create confusion matrix as a 2x2 list, usually one would use the sklearn confusion matrix function. Due to numpy and pytorch compability issues right now, I'm calculating it manually\n",
    "conf_matrix = [[TN, FP], [FN, TP]]\n",
    "\n",
    "# Plot confusion matrix\n",
    "plt.figure(figsize=(6, 4))\n",
    "sns.heatmap(conf_matrix, annot=True, fmt='d', cmap='Blues', cbar=False, xticklabels=['Healthy', 'Pathological'], yticklabels=['Healthy', 'Pathological'])\n",
    "plt.xlabel('Predicted')\n",
    "plt.ylabel('Actual')\n",
    "plt.title('Confusion Matrix')\n",
    "plt.show()\n"
   ]
  },
  {
   "cell_type": "markdown",
   "id": "596e97d7-5386-4472-a163-50bcee1f729a",
   "metadata": {},
   "source": [
    "## Classification Results\n",
    "\n",
    "From the predicted classes, we calculate the typical classification evlauation metrics, including precision, recall, and F1 score. "
   ]
  },
  {
   "cell_type": "code",
   "execution_count": 15,
   "id": "56751392-7489-4796-99b6-dbb48a4e797b",
   "metadata": {},
   "outputs": [
    {
     "name": "stdout",
     "output_type": "stream",
     "text": [
      "Precision: 0.7497\n",
      "Recall: 0.8882\n",
      "F1-Score: 0.8131\n"
     ]
    }
   ],
   "source": [
    "precision = precision_score(labels, predictions)\n",
    "recall = recall_score(labels, predictions)\n",
    "f1 = f1_score(labels, predictions)\n",
    "\n",
    "print(f'Precision: {precision:.4f}')\n",
    "print(f'Recall: {recall:.4f}')\n",
    "print(f'F1-Score: {f1:.4f}')"
   ]
  },
  {
   "cell_type": "markdown",
   "id": "3bd98a07-6bf6-4808-a35d-efd2a451d985",
   "metadata": {},
   "source": [
    "## Lessons Learned\n",
    "\n",
    "Through this initial feasibility study, we explored the dataset and first analyzed it based on the given metadata. From there, we explored the dataset's basic statistics, including the anthropometric patient information, the devices, and the error sources. \n",
    "\n",
    "As a machine learning model, we have seen that binary classification simplifies the task rather than attempting multi-label prediction of all patients. Due to limited computing resources, the experiments only ran for a small time, however, in the two-class "
   ]
  },
  {
   "cell_type": "markdown",
   "id": "1945a8a0-549a-45b7-b9db-e4c2ab131845",
   "metadata": {},
   "source": [
    "## Next Actions\n",
    "\n",
    "We initially explored the given Physionet dataset and focused on predicting healthy and pathologic patients given a 10-second ECG data interval. Due to restrictions in time and especially the available computing resources on my end, we propose to take the next actions in advancing this project:  \n",
    "\n",
    "- Expanding the hyperparameter optimization. This includes more epochs, more k-folds, and a larger parameter space.\n",
    "  \n",
    "- In-depth evaluation of the hyperparameter search, analyzing the importance and influence of specific hyperparameters.\n",
    "\n",
    "- Including more advanced models. In this work, we have focused on a basic CNN model that processes the time series. More advanced methods, including time-series recurrent neural networks, could be tested.\n",
    "\n",
    "- Explainable AI (XAI) involves trying to understand which features in the input data are most relevant for the network to reach a certain conclusion. For example, feature activation maps could reveal more important information."
   ]
  },
  {
   "cell_type": "code",
   "execution_count": null,
   "id": "906f3f09-801b-49dc-a306-ccb56c114651",
   "metadata": {},
   "outputs": [],
   "source": []
  }
 ],
 "metadata": {
  "kernelspec": {
   "display_name": "Python 3 (ipykernel)",
   "language": "python",
   "name": "python3"
  },
  "language_info": {
   "codemirror_mode": {
    "name": "ipython",
    "version": 3
   },
   "file_extension": ".py",
   "mimetype": "text/x-python",
   "name": "python",
   "nbconvert_exporter": "python",
   "pygments_lexer": "ipython3",
   "version": "3.9.1"
  }
 },
 "nbformat": 4,
 "nbformat_minor": 5
}
